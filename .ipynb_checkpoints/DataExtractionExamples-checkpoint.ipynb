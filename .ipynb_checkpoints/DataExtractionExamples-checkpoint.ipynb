{
 "cells": [
  {
   "cell_type": "code",
   "execution_count": 1,
   "metadata": {},
   "outputs": [],
   "source": [
    "import numpy as np\n",
    "import pandas as pd\n",
    "import sqlite3"
   ]
  },
  {
   "cell_type": "code",
   "execution_count": 2,
   "metadata": {},
   "outputs": [],
   "source": [
    "# set up db connectin and cursor\n",
    "conn = sqlite3.connect(\"CompasData/compas.db\")\n",
    "cur = conn.cursor()\n",
    "cur.execute(\"select * from compas;\")\n",
    "results = cur.fetchall()"
   ]
  },
  {
   "cell_type": "code",
   "execution_count": 3,
   "metadata": {},
   "outputs": [
    {
     "name": "stdout",
     "output_type": "stream",
     "text": [
      "['id', 'first', 'last', 'compas_person_id', 'compas_case_id', 'compas_assessment_id', 'agency_text', 'scale_set', 'assessment_reason', 'legal_status', 'custody_status', 'marital_status', 'screening_date', 'rec_supervision_level', 'rec_supervision_level_text', 'score_text', 'scale_id', 'type_of_assessment', 'raw_score', 'decile_score', 'person_id']\n"
     ]
    }
   ],
   "source": [
    "# get column names \n",
    "names = list(map(lambda x: x[0], cur.description))\n",
    "print(names)"
   ]
  },
  {
   "cell_type": "code",
   "execution_count": 4,
   "metadata": {},
   "outputs": [
    {
     "name": "stdout",
     "output_type": "stream",
     "text": [
      "[(1, 'miguel', 'hernandez', 56418, 58393, 64352, 'PRETRIAL', 'Risk and Prescreen', 'Intake', 'Pretrial', 'Jail Inmate', 'Single', '2013-08-14 00:00:00.000000', 1, 'Low', 'Low', 7, 'Risk of Violence', -4.31, 1, 1)]\n"
     ]
    }
   ],
   "source": [
    "# get first 5 rows of data\n",
    "cur.execute(\"select * from compas limit 1;\")\n",
    "rows = cur.fetchall()\n",
    "print(rows)"
   ]
  },
  {
   "cell_type": "code",
   "execution_count": 5,
   "metadata": {},
   "outputs": [
    {
     "name": "stdout",
     "output_type": "stream",
     "text": [
      "(1,)\n",
      "(5,)\n",
      "(3,)\n",
      "(4,)\n",
      "(8,)\n",
      "4.500399169726968 4.0\n"
     ]
    }
   ],
   "source": [
    "cur.execute(\"SELECT decile_score from compas where type_of_assessment='Risk of Recidivism'\")\n",
    "# cur.execute(\"SELECT scale_id from compas \")\n",
    "labels = cur.fetchall()\n",
    "for i in range(5):\n",
    "    print(labels[i])\n",
    "np.unique(labels)\n",
    "print(np.mean(labels), np.median(labels))"
   ]
  },
  {
   "cell_type": "code",
   "execution_count": 6,
   "metadata": {},
   "outputs": [
    {
     "data": {
      "text/plain": [
       "array(['Risk of Failure to Appear', 'Risk of Recidivism',\n",
       "       'Risk of Violence'], dtype='<U25')"
      ]
     },
     "execution_count": 6,
     "metadata": {},
     "output_type": "execute_result"
    }
   ],
   "source": [
    "# sanity check to see what the different types of assesment are\n",
    "cur.execute(\"SELECT type_of_assessment from compas\")\n",
    "types = cur.fetchall()\n",
    "np.unique(types)"
   ]
  },
  {
   "cell_type": "markdown",
   "metadata": {},
   "source": [
    "# Using data from csv file"
   ]
  },
  {
   "cell_type": "code",
   "execution_count": 27,
   "metadata": {},
   "outputs": [
    {
     "name": "stdout",
     "output_type": "stream",
     "text": [
      "[nan nan nan nan nan nan nan nan nan nan nan nan nan nan nan nan nan nan\n",
      " nan nan nan nan]\n",
      "[ 1. nan nan nan nan nan nan 69. nan nan  0.  1.  0.  0.  0. -1. nan nan\n",
      " nan nan nan  1.]\n",
      "[ 3. nan nan nan nan nan nan 34. nan nan  0.  3.  0.  0.  0. -1. nan nan\n",
      " nan nan nan  1.]\n",
      "[ 4. nan nan nan nan nan nan 24. nan nan  0.  4.  0.  1.  4. -1. nan nan\n",
      " nan nan nan  1.]\n",
      "[ 5. nan nan nan nan nan nan 23. nan nan  0.  8.  1.  0.  1. nan nan nan\n",
      " nan nan nan  1.]\n",
      "[ 6. nan nan nan nan nan nan 43. nan nan  0.  1.  0.  0.  2. nan nan nan\n",
      " nan nan nan 76.]\n",
      "[ 7. nan nan nan nan nan nan 44. nan nan  0.  1.  0.  0.  0.  0. nan nan\n",
      " nan nan nan  0.]\n",
      "[ 8. nan nan nan nan nan nan 41. nan nan  0.  6.  0.  0. 14. -1. nan nan\n",
      " nan nan nan  1.]\n",
      "[ 9. nan nan nan nan nan nan 43. nan nan  0.  4.  0.  0.  3. -1. nan nan\n",
      " nan nan nan  1.]\n",
      "[10. nan nan nan nan nan nan 39. nan nan  0.  1.  0.  0.  0. -1. nan nan\n",
      " nan nan nan  1.]\n"
     ]
    }
   ],
   "source": [
    "# txt = \"id,name,first,last,compas_screening_date,sex,dob,age,age_cat,race,juv_fel_count,decile_score,juv_misd_count,juv_other_count,priors_count,days_b_screening_arrest,c_jail_in,c_jail_out,c_case_number,c_offense_date,c_arrest_date,c_days_from_compas,c_charge_degree,c_charge_desc,is_recid,r_case_number,r_charge_degree,r_days_from_arrest,r_offense_date,r_charge_desc,r_jail_in,r_jail_out,violent_recid,is_violent_recid,vr_case_number,vr_charge_degree,vr_offense_date,vr_charge_desc,type_of_assessment,decile_score,score_text,screening_date,v_type_of_assessment,v_decile_score,v_score_text,v_screening_date,in_custody,out_custody,priors_count,start,end,event,two_year_recid\"\n",
    "my_data = pd.read_excel('CompasData/compas-scores-two-years.csv', index_col=0)\n",
    "for i in range(10):\n",
    "    print(my_data[i])"
   ]
  },
  {
   "cell_type": "code",
   "execution_count": null,
   "metadata": {},
   "outputs": [],
   "source": []
  },
  {
   "cell_type": "code",
   "execution_count": null,
   "metadata": {},
   "outputs": [],
   "source": []
  }
 ],
 "metadata": {
  "kernelspec": {
   "display_name": "eulerspython",
   "language": "python",
   "name": "eulerspython"
  },
  "language_info": {
   "codemirror_mode": {
    "name": "ipython",
    "version": 3
   },
   "file_extension": ".py",
   "mimetype": "text/x-python",
   "name": "python",
   "nbconvert_exporter": "python",
   "pygments_lexer": "ipython3",
   "version": "3.6.5"
  }
 },
 "nbformat": 4,
 "nbformat_minor": 2
}
