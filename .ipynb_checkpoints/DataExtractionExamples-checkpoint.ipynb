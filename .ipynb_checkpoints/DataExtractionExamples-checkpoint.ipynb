{
 "cells": [
  {
   "cell_type": "code",
   "execution_count": 1,
   "metadata": {},
   "outputs": [],
   "source": [
    "import numpy as np\n",
    "import sqlite3"
   ]
  },
  {
   "cell_type": "code",
   "execution_count": 2,
   "metadata": {},
   "outputs": [],
   "source": [
    "# set up db connectin and cursor\n",
    "conn = sqlite3.connect(\"CompasData/compas.db\")\n",
    "cur = conn.cursor()\n",
    "cur.execute(\"select * from compas;\")\n",
    "results = cur.fetchall()"
   ]
  },
  {
   "cell_type": "code",
   "execution_count": 3,
   "metadata": {},
   "outputs": [
    {
     "name": "stdout",
     "output_type": "stream",
     "text": [
      "['id', 'first', 'last', 'compas_person_id', 'compas_case_id', 'compas_assessment_id', 'agency_text', 'scale_set', 'assessment_reason', 'legal_status', 'custody_status', 'marital_status', 'screening_date', 'rec_supervision_level', 'rec_supervision_level_text', 'score_text', 'scale_id', 'type_of_assessment', 'raw_score', 'decile_score', 'person_id']\n"
     ]
    }
   ],
   "source": [
    "# get column names \n",
    "names = list(map(lambda x: x[0], cur.description))\n",
    "print(names)"
   ]
  },
  {
   "cell_type": "code",
   "execution_count": 9,
   "metadata": {},
   "outputs": [
    {
     "name": "stdout",
     "output_type": "stream",
     "text": [
      "[(1, 'miguel', 'hernandez', 56418, 58393, 64352, 'PRETRIAL', 'Risk and Prescreen', 'Intake', 'Pretrial', 'Jail Inmate', 'Single', '2013-08-14 00:00:00.000000', 1, 'Low', 'Low', 7, 'Risk of Violence', -4.31, 1, 1)]\n"
     ]
    }
   ],
   "source": [
    "# get first 5 rows of data\n",
    "cur.execute(\"select * from compas limit 1;\")\n",
    "rows = cur.fetchall()\n",
    "print(rows)"
   ]
  },
  {
   "cell_type": "code",
   "execution_count": 17,
   "metadata": {},
   "outputs": [
    {
     "name": "stdout",
     "output_type": "stream",
     "text": [
      "(7,)\n",
      "(8,)\n",
      "(18,)\n",
      "(7,)\n",
      "(8,)\n"
     ]
    }
   ],
   "source": [
    "# cur.execute(\"SELECT scale_id from compas where type_of_assessment='Risk of Violence'\")\n",
    "cur.execute(\"SELECT scale_id from compas \")\n",
    "labels = cur.fetchall()\n",
    "for i in range(5):\n",
    "    print(labels[i])"
   ]
  },
  {
   "cell_type": "code",
   "execution_count": null,
   "metadata": {},
   "outputs": [],
   "source": []
  }
 ],
 "metadata": {
  "kernelspec": {
   "display_name": "Python 3",
   "language": "python",
   "name": "python3"
  },
  "language_info": {
   "codemirror_mode": {
    "name": "ipython",
    "version": 3
   },
   "file_extension": ".py",
   "mimetype": "text/x-python",
   "name": "python",
   "nbconvert_exporter": "python",
   "pygments_lexer": "ipython3",
   "version": "3.6.8"
  }
 },
 "nbformat": 4,
 "nbformat_minor": 2
}
